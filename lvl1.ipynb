{
  "nbformat": 4,
  "nbformat_minor": 0,
  "metadata": {
    "colab": {
      "provenance": []
    },
    "kernelspec": {
      "name": "python3",
      "display_name": "Python 3"
    },
    "language_info": {
      "name": "python"
    }
  },
  "cells": [
    {
      "cell_type": "code",
      "execution_count": null,
      "metadata": {
        "colab": {
          "base_uri": "https://localhost:8080/",
          "height": 35
        },
        "id": "Q7MQ7Yfd6mFC",
        "outputId": "9314976e-96e5-488f-8ae2-e18b2868b5a6"
      },
      "outputs": [
        {
          "output_type": "execute_result",
          "data": {
            "text/plain": [
              "'Start Me Up'"
            ],
            "application/vnd.google.colaboratory.intrinsic+json": {
              "type": "string"
            }
          },
          "metadata": {},
          "execution_count": 14
        }
      ],
      "source": [
        "my_favorite_songs = 'Waste a Moment, Staying\\' Alive, A Sorta Fairytale, Start Me Up, New Salvation'\n",
        "my_favorite_songs[0:13]\n",
        "my_favorite_songs[64:77]\n",
        "my_favorite_songs[16:30]\n",
        "my_favorite_songs[51:62]"
      ]
    },
    {
      "cell_type": "code",
      "source": [
        "my_favorite_songs = [\n",
        "    ['Waste a Moment', 3.03],\n",
        "    ['New Salvation', 4.02],\n",
        "    ['Staying\\' Alive', 3.40],\n",
        "    ['Out of Touch', 3.03],\n",
        "    ['A Sorta Fairytale', 5.28],\n",
        "    ['Easy', 4.15],\n",
        "    ['Beautiful Day', 4.04],\n",
        "    ['Nowhere to Run', 2.58],\n",
        "    ['In This World', 4.02],\n",
        "]\n",
        "print ('Три песни звучат',my_favorite_songs[1][1]+my_favorite_songs[2][1]+my_favorite_songs[3][1], 'минут')"
      ],
      "metadata": {
        "id": "S8u7rvpfWPZq"
      },
      "execution_count": null,
      "outputs": []
    },
    {
      "cell_type": "code",
      "source": [
        "my_favorite_songs = [\n",
        "    ['Waste a Moment', 3.03],\n",
        "    ['New Salvation', 4.02],\n",
        "    ['Staying\\' Alive', 3.40],\n",
        "    ['Out of Touch', 3.03],\n",
        "    ['A Sorta Fairytale', 5.28],\n",
        "    ['Easy', 4.15],\n",
        "    ['Beautiful Day', 4.04],\n",
        "    ['Nowhere to Run', 2.58],\n",
        "    ['In This World', 4.02],\n",
        "]\n",
        "import random\n",
        "f'Три песни звучат {sum([i[1] for i in random.sample(my_favorite_songs,3)])} минут'\n"
      ],
      "metadata": {
        "colab": {
          "base_uri": "https://localhost:8080/",
          "height": 35
        },
        "id": "XW3QRrH_ALVU",
        "outputId": "b2be2575-e3b1-4b0d-9b04-32db0137aa70"
      },
      "execution_count": null,
      "outputs": [
        {
          "output_type": "execute_result",
          "data": {
            "text/plain": [
              "'Три песни звучат 11.46 минут'"
            ],
            "application/vnd.google.colaboratory.intrinsic+json": {
              "type": "string"
            }
          },
          "metadata": {},
          "execution_count": 6
        }
      ]
    },
    {
      "cell_type": "code",
      "source": [
        "my_favorite_songs_dict = {\n",
        "    'Waste a Moment': 3.03,\n",
        "    'New Salvation': 4.02,\n",
        "    'Staying\\' Alive': 3.40,\n",
        "    'Out of Touch': 3.03,\n",
        "    'A Sorta Fairytale': 5.28,\n",
        "    'Easy': 4.15,\n",
        "    'Beautiful Day': 4.04,\n",
        "    'Nowhere to Run': 2.58,\n",
        "    'In This World': 4.02,\n",
        "}\n",
        "print ('Три песни звучат',my_favorite_songs_dict['Waste a Moment']+my_favorite_songs_dict['New Salvation']+my_favorite_songs_dict['Staying\\' Alive'], 'минут')"
      ],
      "metadata": {
        "colab": {
          "base_uri": "https://localhost:8080/"
        },
        "id": "GTPj7yviYLf7",
        "outputId": "d7824ef7-c649-4f41-993f-7b6bab0b5327"
      },
      "execution_count": null,
      "outputs": [
        {
          "output_type": "stream",
          "name": "stdout",
          "text": [
            "Три песни звучат 10.45 минут\n"
          ]
        }
      ]
    },
    {
      "cell_type": "code",
      "source": [
        "# Пункт B. \n",
        "# Есть словарь песен \n",
        "# Распечатайте общее время звучания трех случайных песен\n",
        "# Вывод: Три песни звучат ХХХ минут.\n",
        "\n",
        "my_favorite_songs_dict = {\n",
        "    'Waste a Moment': 3.03,\n",
        "    'New Salvation': 4.02,\n",
        "    'Staying\\' Alive': 3.40,\n",
        "    'Out of Touch': 3.03,\n",
        "    'A Sorta Fairytale': 5.28,\n",
        "    'Easy': 4.15,\n",
        "    'Beautiful Day': 4.04,\n",
        "    'Nowhere to Run': 2.58,\n",
        "    'In This World': 4.02,\n",
        "}\n",
        "f'Три песни звучат {sum([my_favorite_songs_dict[i] for i in random.sample(list(my_favorite_songs_dict.keys()),3)])} минут'\n"
      ],
      "metadata": {
        "colab": {
          "base_uri": "https://localhost:8080/",
          "height": 35
        },
        "id": "mDaYH79yWxcb",
        "outputId": "b3670abb-db31-46fc-e5c1-a7c0f7fecbb6"
      },
      "execution_count": null,
      "outputs": [
        {
          "output_type": "execute_result",
          "data": {
            "text/plain": [
              "'Три песни звучат 12.459999999999999 минут'"
            ],
            "application/vnd.google.colaboratory.intrinsic+json": {
              "type": "string"
            }
          },
          "metadata": {},
          "execution_count": 10
        }
      ]
    },
    {
      "cell_type": "code",
      "source": [
        "import datetime\n",
        "random_time_sum=sum([my_favorite_songs_dict[i] for i in random.sample(list(my_favorite_songs_dict.keys()),3)])\n",
        "time = datetime.time(minute=int(random_time_sum), second=int((random_time_sum-int(random_time_sum))*60))\n",
        "time"
      ],
      "metadata": {
        "colab": {
          "base_uri": "https://localhost:8080/"
        },
        "id": "r7jK7jnIXNL4",
        "outputId": "545b0c2e-a659-4ccd-bec4-3b8ed5b1d8ec"
      },
      "execution_count": null,
      "outputs": [
        {
          "output_type": "execute_result",
          "data": {
            "text/plain": [
              "datetime.time(0, 12, 27)"
            ]
          },
          "metadata": {},
          "execution_count": 33
        }
      ]
    },
    {
      "cell_type": "code",
      "source": [
        "# Задача 1.3.\n",
        "\n",
        "# Напишите скрипт, который принимает от пользователя номер месяца, \n",
        "# а возвращает количество дней в нем.\n",
        "# Результат проверки вывести на консоль\n",
        "# Допущение: в феврале 28 дней\n",
        "# Если номер месяца некорректен - сообщить об этом\n",
        "\n",
        "# Например,\n",
        "    # Введите номер месяца: 3\n",
        "    # Вы ввели март. 31 дней\n",
        "\n",
        "    # Введите номер месяца: 2\n",
        "    # Вы ввели февраль. 28 дней\n",
        "\n",
        "    # Введите номер месяца: 15\n",
        "    # Такого месяца нет!\n",
        "    "
      ],
      "metadata": {
        "id": "yRrV-LOibLo0"
      },
      "execution_count": null,
      "outputs": []
    },
    {
      "cell_type": "code",
      "source": [
        "month_days = {'1':31, '2':28, '3':31, '4':30, '5':31, '6':30, '7':31, '8':31, '9':30, '10':31, '11':30, '12':31}\n",
        "month_names = {'1':'январь', '2':'февраль', '3':'март', '4':'апрель', '5':'май', \n",
        "               '6':'июнь', '7':'июль', '8':'август', '9':'сентябрь', '10':'октябрь', '11':'ноябрь', \n",
        "               '12':'декабрь'}\n",
        "month = input(\"Введите номер месяца:\")\n",
        "if month_days.get(month) is None:\n",
        "  print(\"Такого месяца нет!\")\n",
        "else:\n",
        "  print(f\"Вы ввели месяц: {month_names[month]}, в нем: {month_days[month]} день!\")"
      ],
      "metadata": {
        "colab": {
          "base_uri": "https://localhost:8080/"
        },
        "id": "Cd2NB7bDcdUt",
        "outputId": "6631a237-8185-4d81-9ea1-ae84966d1d0b"
      },
      "execution_count": null,
      "outputs": [
        {
          "output_type": "stream",
          "name": "stdout",
          "text": [
            "Введите номер месяца:3\n",
            "Вы ввели месяц: март, в нем: 31 день!\n"
          ]
        }
      ]
    },
    {
      "cell_type": "code",
      "source": [
        "# Задача 1.4.\n",
        "\n",
        "# Есть словарь кодов товаров titles\n",
        "\n",
        "titles = {\n",
        "    'Кроссовки тип 3 (Adidas)': '100000110',\n",
        "    'Мячик тип 2 (Adidas)': '100000146',\n",
        "    'Кепка тип 1 (Adidas)': '100000149',\n",
        "    'Ремень тип 2 (Nike)': '100000194',\n",
        "    'Футболка тип 1 (Adidas)': '100000224',\n",
        "    'Шапка тип 5 (Puma)': '100000280',\n",
        "}\n",
        "\n",
        "# Товары находятся на складе и сохранены в виде словаря списков словарей,\n",
        "# которые отражают количество товаров в магазине по каждому коду.\n",
        "\n",
        "store = {\n",
        "    '100000110': [{'quantity': 31, 'price': 1637}],\n",
        "    '100000146': [ {'quantity': 4, 'price': 45}, {'quantity': 10, 'price': 48}],\n",
        "    '100000149': [ {'quantity': 28, 'price': 279}, {'quantity': 32, 'price': 291}],\n",
        "    '100000194': [{'quantity': 8, 'price': 220}, {'quantity': 1, 'price': 170}],\n",
        "    '100000224': [{'quantity': 61, 'price': 438}, {'quantity': 23, 'price': 302},  {'quantity': 50, 'price': 412}],\n",
        "    '100000280': [{'quantity': 26, 'price': 175}, ]\n",
        "}\n",
        "\n",
        "# Рассчитайте на какую сумму лежит каждого товара на складе.\n",
        "#\n",
        "# Вывести суммарную стоимость каждого товара в магазине в формате:\n",
        "# \"<товар> - <кол-во> шт, стоимость <общая стоимость> руб\"\n",
        "\n",
        "# Пример: \"Кроссовки тип 3 (Adidas) - 31 шт, стоимость 50747 руб\""
      ],
      "metadata": {
        "id": "36zUQfGadOjb"
      },
      "execution_count": 1,
      "outputs": []
    },
    {
      "cell_type": "code",
      "source": [
        "for product_name, product_code in titles.items():\n",
        "  qty = sum(i['quantity'] for i in store[product_code])\n",
        "  print(f\"{product_name} - {qty} шт, \"\n",
        "        f\"стоимость {sum(i['price'] for i in store[product_code]) * qty} руб\")"
      ],
      "metadata": {
        "colab": {
          "base_uri": "https://localhost:8080/"
        },
        "id": "_jwj7XI6Bu49",
        "outputId": "7b36f632-9f9c-48e8-d71e-fa2dfd22eda5"
      },
      "execution_count": 2,
      "outputs": [
        {
          "output_type": "stream",
          "name": "stdout",
          "text": [
            "Кроссовки тип 3 (Adidas) - 31 шт, стоимость 50747 руб\n",
            "Мячик тип 2 (Adidas) - 14 шт, стоимость 1302 руб\n",
            "Кепка тип 1 (Adidas) - 60 шт, стоимость 34200 руб\n",
            "Ремень тип 2 (Nike) - 9 шт, стоимость 3510 руб\n",
            "Футболка тип 1 (Adidas) - 134 шт, стоимость 154368 руб\n",
            "Шапка тип 5 (Puma) - 26 шт, стоимость 4550 руб\n"
          ]
        }
      ]
    },
    {
      "cell_type": "code",
      "source": [],
      "metadata": {
        "id": "VTnUmXajCKo6"
      },
      "execution_count": null,
      "outputs": []
    }
  ]
}