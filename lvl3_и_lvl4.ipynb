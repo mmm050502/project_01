{
  "nbformat": 4,
  "nbformat_minor": 0,
  "metadata": {
    "colab": {
      "provenance": []
    },
    "kernelspec": {
      "name": "python3",
      "display_name": "Python 3"
    },
    "language_info": {
      "name": "python"
    }
  },
  "cells": [
    {
      "cell_type": "code",
      "execution_count": null,
      "metadata": {
        "id": "rVxgx9V4HQAV"
      },
      "outputs": [],
      "source": [
        "# Задача 3.1.\n",
        "# Создайте класс матрицы (или таблицы).\n",
        "# Требования к классу:\n",
        "#   - каждая колонка является числом от 1 до n (n любое число, которые вы поставите!)\n",
        "#   - в каждой ячейке содержится либо число, либо None\n",
        "#   - доступы следующие методы матрицы:\n",
        "#       * принимать новые значения, \n",
        "#       * заменять существующие значения, \n",
        "#       * выводить число строк и колонок.\n",
        "\n",
        "# Пример матрицы 10 на 10 из единиц:\n",
        "# [[1, 1, 1, 1, 1, 1, 1, 1, 1, 1],\n",
        "#  [1, 1, 1, 1, 1, 1, 1, 1, 1, 1],\n",
        "#  [1, 1, 1, 1, 1, 1, 1, 1, 1, 1],\n",
        "#  [1, 1, 1, 1, 1, 1, 1, 1, 1, 1],\n",
        "#  [1, 1, 1, 1, 1, 1, 1, 1, 1, 1],\n",
        "#  [1, 1, 1, 1, 1, 1, 1, 1, 1, 1],\n",
        "#  [1, 1, 1, 1, 1, 1, 1, 1, 1, 1],\n",
        "#  [1, 1, 1, 1, 1, 1, 1, 1, 1, 1],\n",
        "#  [1, 1, 1, 1, 1, 1, 1, 1, 1, 1],\n",
        "#  [1, 1, 1, 1, 1, 1, 1, 1, 1, 1]]\n",
        "\n",
        "# Примечание! \n",
        "#   - новый класс не запрещено строить на базе существующих типов данных: списков, словарей и тд.\n",
        "#   - отображать в таблице/матрице название колонки не обязательно!\n",
        "#   - использовать готовые классы numpy.array() и pandas.DataFrame() запрещено!\n",
        "#   - проявите фантазию :)\n"
      ]
    },
    {
      "cell_type": "code",
      "source": [
        "class Table:\n",
        "    def __init__(self, colnames: list):\n",
        "        self.colnames = colnames\n",
        "        self.rows = []\n",
        "\n",
        "    def add_row(self, row: dict):\n",
        "        if any(colname not in tuple(row) for colname in self.colnames):  # хотя бы один элемент не соответствует\n",
        "            print('Такой колонки нет')\n",
        "        else:\n",
        "            self.rows.append(row)\n",
        "\n",
        "    def get_column(self, colname):\n",
        "        if (colname not in self.colnames):\n",
        "            print('Такой колонки нет')\n",
        "        return [r[colname] for r in self.rows]\n",
        "\n",
        "\n",
        "    def sum(self, colname: str):\n",
        "        if colname not in self.colnames:\n",
        "          print('Неправильный формат')\n",
        "        return sum([r[colname] for r in self.rows])\n",
        "\n",
        "\n",
        "\n",
        "table1 = Table([1, 2])\n",
        "table1.add_row({1: 10, 2: 20})\n",
        "table1.add_row({1: 20, 2: 400})\n",
        "table1.add_row({1: 30, 2: 600})\n",
        "table1.add_row({1: 40, 2: 800})\n",
        "print(table1.get_column(1))\n",
        "print(table1.get_column(2))\n",
        "print(table1.rows)"
      ],
      "metadata": {
        "colab": {
          "base_uri": "https://localhost:8080/"
        },
        "id": "_Cc5s94UHU-F",
        "outputId": "7ded8015-99ff-4d4f-d0bc-9001daafa7ac"
      },
      "execution_count": null,
      "outputs": [
        {
          "output_type": "stream",
          "name": "stdout",
          "text": [
            "[10, 20, 30, 40]\n",
            "[20, 400, 600, 800]\n",
            "[{1: 10, 2: 20}, {1: 20, 2: 400}, {1: 30, 2: 600}, {1: 40, 2: 800}]\n"
          ]
        }
      ]
    },
    {
      "cell_type": "code",
      "source": [
        "# Задача 4.1.\n",
        "# Домашнее задание на SQL\n",
        "\n",
        "# В базе данных teacher создайте таблицу Students\n",
        "\n",
        "# Структура таблицы: Student_Id - Integer, Student_Name - Text, School_Id - Integer (Primary key)\n",
        "\n",
        "# Наполните таблицу следующими данными:\n",
        "\n",
        "# 201, Иван, 1\n",
        "# 202, Петр, 2\n",
        "# 203, Анастасия, 3\n",
        "# 204, Игорь, 4\n",
        "\n",
        "# Напишите программу, с помощью которой по ID студента можно получать информацию о школе и студенте.\n",
        "\n",
        "# Формат вывода:\n",
        "\n",
        "# ID Студента:\n",
        "# Имя студента:\n",
        "# ID школы:\n",
        "# Название школы:"
      ],
      "metadata": {
        "id": "Q_3PRVm1H-t1"
      },
      "execution_count": null,
      "outputs": []
    },
    {
      "cell_type": "code",
      "source": [
        "import sqlite3 as sql\n",
        "\n",
        "# При необходимости (Удаление таблицы Students):\n",
        "# cur.execute('DROP TABLE IF EXISTS Students')\n",
        "\n",
        "with sql.connect('teatchers.db') as con:\n",
        "    cur = con.cursor()\n",
        "    cur.execute(\"\"\"CREATE TABLE IF NOT EXISTS Students (\n",
        "        Student_Id  INTEGER,\n",
        "        Student_Name  TEXT,\n",
        "        School_Id  INTEGER PRIMARY KEY\n",
        "        )\"\"\")\n",
        "\n",
        "# Добавление записей:\n",
        "\n",
        "    # cur.execute(\"\"\" INSERT INTO Students VALUES(201, 'Иван', 1)\"\"\")\n",
        "    # cur.execute(\"\"\" INSERT INTO Students VALUES(202, 'Петр', 2)\"\"\")\n",
        "    # cur.execute(\"\"\" INSERT INTO Students VALUES(203, 'Анастасия', 3)\"\"\")\n",
        "    # cur.execute(\"\"\" INSERT INTO Students VALUES(204, 'Игорь', 4)\"\"\")\n",
        "\n",
        "\n",
        "    def find_students(value):\n",
        "        cur.execute(f\"\"\"\n",
        "        SELECT Students.Student_Id, Students.Student_Name, Students.School_Id, School.School_Name  FROM Students, School \n",
        "        WHERE Students.Student_Id == {value} AND Students.School_Id == School.School_Id\"\"\")\n",
        "        result = cur.fetchall()\n",
        "\n",
        "        print(f\"\"\"\n",
        "    ID Студента: {result[0][0]}\n",
        "    Имя студента: {result[0][1]}\n",
        "    ID школы: {result[0][2]}\n",
        "    Название школы: {result[0][3]}\n",
        "    \"\"\")\n",
        "\n",
        "    find_students(input('Введите ID студента '))"
      ],
      "metadata": {
        "colab": {
          "base_uri": "https://localhost:8080/",
          "height": 339
        },
        "id": "ImNsoy4jIBov",
        "outputId": "3451d26a-345d-4e94-962e-e84a385e3b80"
      },
      "execution_count": null,
      "outputs": [
        {
          "name": "stdout",
          "output_type": "stream",
          "text": [
            "Введите ID студента 10\n"
          ]
        },
        {
          "output_type": "error",
          "ename": "OperationalError",
          "evalue": "ignored",
          "traceback": [
            "\u001b[0;31m---------------------------------------------------------------------------\u001b[0m",
            "\u001b[0;31mOperationalError\u001b[0m                          Traceback (most recent call last)",
            "\u001b[0;32m<ipython-input-2-a13dfaf21a0b>\u001b[0m in \u001b[0;36m<cell line: 6>\u001b[0;34m()\u001b[0m\n\u001b[1;32m     33\u001b[0m     \"\"\")\n\u001b[1;32m     34\u001b[0m \u001b[0;34m\u001b[0m\u001b[0m\n\u001b[0;32m---> 35\u001b[0;31m     \u001b[0mfind_students\u001b[0m\u001b[0;34m(\u001b[0m\u001b[0minput\u001b[0m\u001b[0;34m(\u001b[0m\u001b[0;34m'Введите ID студента '\u001b[0m\u001b[0;34m)\u001b[0m\u001b[0;34m)\u001b[0m\u001b[0;34m\u001b[0m\u001b[0;34m\u001b[0m\u001b[0m\n\u001b[0m",
            "\u001b[0;32m<ipython-input-2-a13dfaf21a0b>\u001b[0m in \u001b[0;36mfind_students\u001b[0;34m(value)\u001b[0m\n\u001b[1;32m     21\u001b[0m \u001b[0;34m\u001b[0m\u001b[0m\n\u001b[1;32m     22\u001b[0m     \u001b[0;32mdef\u001b[0m \u001b[0mfind_students\u001b[0m\u001b[0;34m(\u001b[0m\u001b[0mvalue\u001b[0m\u001b[0;34m)\u001b[0m\u001b[0;34m:\u001b[0m\u001b[0;34m\u001b[0m\u001b[0;34m\u001b[0m\u001b[0m\n\u001b[0;32m---> 23\u001b[0;31m         cur.execute(f\"\"\"\n\u001b[0m\u001b[1;32m     24\u001b[0m         \u001b[0mSELECT\u001b[0m \u001b[0mStudents\u001b[0m\u001b[0;34m.\u001b[0m\u001b[0mStudent_Id\u001b[0m\u001b[0;34m,\u001b[0m \u001b[0mStudents\u001b[0m\u001b[0;34m.\u001b[0m\u001b[0mStudent_Name\u001b[0m\u001b[0;34m,\u001b[0m \u001b[0mStudents\u001b[0m\u001b[0;34m.\u001b[0m\u001b[0mSchool_Id\u001b[0m\u001b[0;34m,\u001b[0m \u001b[0mSchool\u001b[0m\u001b[0;34m.\u001b[0m\u001b[0mSchool_Name\u001b[0m  \u001b[0mFROM\u001b[0m \u001b[0mStudents\u001b[0m\u001b[0;34m,\u001b[0m \u001b[0mSchool\u001b[0m\u001b[0;34m\u001b[0m\u001b[0;34m\u001b[0m\u001b[0m\n\u001b[1;32m     25\u001b[0m         WHERE Students.Student_Id == {value} AND Students.School_Id == School.School_Id\"\"\")\n",
            "\u001b[0;31mOperationalError\u001b[0m: no such table: School"
          ]
        }
      ]
    }
  ]
}