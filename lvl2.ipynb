{
  "nbformat": 4,
  "nbformat_minor": 0,
  "metadata": {
    "colab": {
      "provenance": []
    },
    "kernelspec": {
      "name": "python3",
      "display_name": "Python 3"
    },
    "language_info": {
      "name": "python"
    }
  },
  "cells": [
    {
      "cell_type": "code",
      "execution_count": null,
      "metadata": {
        "id": "TRostCozD6No"
      },
      "outputs": [],
      "source": [
        "# Задача 2.1. \n",
        "\n",
        "# Создайте две функции maximum и minimum,\n",
        "# которые получают список целых чисел в качестве входных данных \n",
        "# и возвращают наибольшее и наименьшее число в этом списке соответственно.\n",
        "# Например,\n",
        "# * [4,6,2,1,9,63,-134,566]         -> max = 566, min = -134\n",
        "# * [-52, 56, 30, 29, -54, 0, -110] -> min = -110, max = 56\n",
        "# * [42, 54, 65, 87, 0]             -> min = 0, max = 87\n",
        "# * [5]                             -> min = 5, max = 5\n",
        "# функции sorted, max и min использовать нельзя!\n",
        "\n",
        "def minimum(arr):\n",
        "    pass\n",
        "\n",
        "def maximum(arr):\n",
        "    pass"
      ]
    },
    {
      "cell_type": "code",
      "source": [
        "def minimum(arr):\n",
        "    temp = arr[0]\n",
        "    for i in arr:\n",
        "        if i < temp:\n",
        "            temp = i\n",
        "    return temp\n",
        "\n",
        "\n",
        "def maximum(arr):\n",
        "    temp = arr[0]\n",
        "    for i in arr:\n",
        "        if i > temp:\n",
        "            temp = i\n",
        "    return temp\n",
        "\n",
        "\n",
        "print(minimum([4, 6, 2, 1, 9, 63, -134, 566]))\n",
        "print(maximum([4, 6, 2, 1, 9, 63, -134, 566]))\n",
        "\n",
        "# алгоритм быстрой сортировки\n",
        "def quicksort(arr):\n",
        "    if len(arr) < 2:\n",
        "       \n",
        "        return arr\n",
        "    else:\n",
        "        \n",
        "        pivot = arr[0]\n",
        "     \n",
        "        less = [i for i in arr[1:] if i <= pivot]\n",
        "\n",
        "        greater = [i for i in arr[1:] if i > pivot]\n",
        "       \n",
        "        return quicksort(less) + [pivot] + quicksort(greater)\n",
        "\n",
        "\n",
        "def maximum(arr):\n",
        "    return quicksort(arr)[-1]\n",
        "\n",
        "\n",
        "def minimum(arr):\n",
        "    return quicksort(arr)[0]\n",
        "print('\\nБыстрая сортировка')\n",
        "print('min =', minimum([4,6,2,1,9,63,-134,566]))\n",
        "print('max =', maximum([4,6,2,1,9,63,-134,566]))"
      ],
      "metadata": {
        "colab": {
          "base_uri": "https://localhost:8080/"
        },
        "id": "go1eQCENEDVV",
        "outputId": "dde0b94b-7c52-4197-e76e-78ec3c7d471e"
      },
      "execution_count": null,
      "outputs": [
        {
          "output_type": "stream",
          "name": "stdout",
          "text": [
            "-134\n",
            "566\n",
            "\n",
            "Быстрая сортировка\n",
            "min = -134\n",
            "max = 566\n"
          ]
        }
      ]
    },
    {
      "cell_type": "code",
      "source": [
        "# Задача 2.2. \n",
        "\n",
        "# Напишите функцию, которая возвращает номер квартал по номеру месяца\n",
        "# Например: \n",
        "# месяц 2 (февраль) является частью первого квартала; \n",
        "# месяц 6 (июнь) является частью второго квартала; \n",
        "# месяц 11 (ноябрь) является частью четвертого квартала.\n",
        "\n",
        "def quarter_of(month):\n",
        "    pass"
      ],
      "metadata": {
        "id": "1NCrdiBYEemA"
      },
      "execution_count": null,
      "outputs": []
    },
    {
      "cell_type": "code",
      "source": [
        "def quarter_of(month):\n",
        "    data = [\"январь\", \"февраль\", \"март\", \"апрель\", \"мaй\", \"июнь\", \"июль\",\n",
        "              \"август\", \"сентябрь\", \"октябрь\", \"ноябрь\", \"декабрь\"]\n",
        "    if 1 <= month <= 3:\n",
        "        print(f'месяц {month} ({data[month-1]}) является частью первого квартала')\n",
        "    elif 4 <= month <= 6:\n",
        "        print(f'месяц {month} ({data[month - 1]}) является частью второго квартала')\n",
        "    elif 7 <= month <= 9:\n",
        "        print(f'месяц {month} ({data[month - 1]}) является частью третьего квартала')\n",
        "    elif 7 <= month <= 9:\n",
        "        print(f'месяц {month} ({data[month - 1]}) является частью четвертого квартала')\n",
        "    else:\n",
        "        print('Некорректный ввод, используйте диапазон 1 - 12')\n",
        "\n",
        "\n",
        "\n",
        "quarter_of(1)\n",
        "\n",
        "\n",
        "def quarter_of(month):\n",
        "    q = {1: (1,3), 2:(4,6), 3:(7,9), 4:(10,12)}\n",
        "    return [k for k,v in q.items() if v[0] <= month <= v[1]][0]"
      ],
      "metadata": {
        "colab": {
          "base_uri": "https://localhost:8080/"
        },
        "id": "QBh_7rrcEkA7",
        "outputId": "0467de71-6b12-42fd-ec3f-e0d667b1d2fc"
      },
      "execution_count": null,
      "outputs": [
        {
          "output_type": "stream",
          "name": "stdout",
          "text": [
            "месяц 1 (январь) является частью первого квартала\n"
          ]
        }
      ]
    },
    {
      "cell_type": "code",
      "source": [
        "# Задача 2.3.\n",
        "\n",
        "# Напишите функцию, которая принимает цифры от 0 до 9 и возвращает значение прописью.\n",
        "# Например,\n",
        "# switch_it_up(1) -> 'One'\n",
        "# switch_it_up(3) -> 'Three'\n",
        "# switch_it_up(10000) -> None\n",
        "# Использовать условный оператор if-elif-else нельзя!\n",
        "\n",
        "def switch_it_up(number):\n",
        "    pass"
      ],
      "metadata": {
        "id": "yehwQ9lSFgCK"
      },
      "execution_count": null,
      "outputs": []
    },
    {
      "cell_type": "code",
      "source": [
        "def switch_it_up(number):\n",
        "    return {0: 'Zero', 1: 'One', 2: 'Two', 3: 'Three', 4: 'Four', 5: 'Five',\n",
        "            6: 'Six', 7: 'Seven', 8: 'Eight', 9: 'Nine'}.get(number)"
      ],
      "metadata": {
        "id": "mM0XBeuJFi4P"
      },
      "execution_count": 2,
      "outputs": []
    },
    {
      "cell_type": "code",
      "source": [
        "switch_it_up(0)"
      ],
      "metadata": {
        "colab": {
          "base_uri": "https://localhost:8080/",
          "height": 35
        },
        "id": "ZpA8_SxeXhgv",
        "outputId": "c093656a-32a7-49f5-d42e-b8b69a9daf5a"
      },
      "execution_count": 3,
      "outputs": [
        {
          "output_type": "execute_result",
          "data": {
            "text/plain": [
              "'Zero'"
            ],
            "application/vnd.google.colaboratory.intrinsic+json": {
              "type": "string"
            }
          },
          "metadata": {},
          "execution_count": 3
        }
      ]
    },
    {
      "cell_type": "code",
      "source": [
        "# Задача 2.4.\n",
        "\n",
        "# Пункт A.\n",
        "# Напишите функцию, которая удаляет все восклицательные знаки из заданной строк.\n",
        "# Например,\n",
        "# foo(\"Hi! Hello!\") -> \"Hi Hello\"\n",
        "# foo(\"\") -> \"\"\n",
        "# foo(\"Oh, no!!!\") -> \"Oh, no\"\n",
        "\n",
        "def remove_exclamation_marks(s):\n",
        "    pass\n",
        "\n",
        "\n",
        "# Пункт B.\n",
        "# Удалите восклицательный знак из конца строки. \n",
        "# remove(\"Hi!\") == \"Hi\"\n",
        "# remove(\"Hi!!!\") == \"Hi!!\"\n",
        "# remove(\"!Hi\") == \"!Hi\"\n",
        "\n",
        "def remove_last_em(s):\n",
        "    pass\n",
        "\n",
        "\n",
        "# Дополнительно\n",
        "\n",
        "# Пункт С.\n",
        "# Удалите слова из предложения, если они содержат ровно один восклицательный знак.\n",
        "# Слова разделены одним пробелом.\n",
        "# Например,\n",
        "# remove(\"Hi!\") === \"\"\n",
        "# remove(\"Hi! Hi!\") === \"\"\n",
        "# remove(\"Hi! Hi! Hi!\") === \"\"\n",
        "# remove(\"Hi Hi! Hi!\") === \"Hi\"\n",
        "# remove(\"Hi! !Hi Hi!\") === \"\"\n",
        "# remove(\"Hi! Hi!! Hi!\") === \"Hi!!\"\n",
        "# remove(\"Hi! !Hi! Hi!\") === \"!Hi!\"\n",
        "\n",
        "def remove_word_with_one_em(s):\n",
        "    pass"
      ],
      "metadata": {
        "id": "QEJ1RFEFGGPX"
      },
      "execution_count": null,
      "outputs": []
    },
    {
      "cell_type": "code",
      "source": [
        "def remove_exclamation_marks(s):\n",
        "    answer = s.replace('!', '')\n",
        "    print(answer)\n",
        "\n",
        "\n",
        "remove_exclamation_marks('Hi! Hello!')"
      ],
      "metadata": {
        "colab": {
          "base_uri": "https://localhost:8080/"
        },
        "id": "X8cQTrlmGPtD",
        "outputId": "bd8eda49-9c5f-47fa-be79-83097f40f06c"
      },
      "execution_count": null,
      "outputs": [
        {
          "output_type": "stream",
          "name": "stdout",
          "text": [
            "Hi Hello\n"
          ]
        }
      ]
    },
    {
      "cell_type": "code",
      "source": [
        "def remove_last_em(s):\n",
        "    if s[-1] == '!':\n",
        "        s = s[0:-1]\n",
        "    print(s)\n",
        "\n",
        "\n",
        "remove_last_em(\"Hi!!!\")"
      ],
      "metadata": {
        "colab": {
          "base_uri": "https://localhost:8080/"
        },
        "id": "cQhhD8nKGa8x",
        "outputId": "b47fb678-cc2f-4ae2-9092-9d563d085a34"
      },
      "execution_count": null,
      "outputs": [
        {
          "output_type": "stream",
          "name": "stdout",
          "text": [
            "Hi!!\n"
          ]
        }
      ]
    },
    {
      "cell_type": "code",
      "source": [
        "def remove_word_with_one_em(s):\n",
        "    answer = []\n",
        "    for i in s.split():\n",
        "        if i.count('!') == 1:\n",
        "            continue\n",
        "        else:\n",
        "            answer.append(i)\n",
        "    print(*answer)\n",
        "\n",
        "\n",
        "def remove_word_with_one_em(s):\n",
        "    return ' '.join([w for w in s.split(' ') if w.count('!')!=1])\n",
        "\n",
        "print(remove_word_with_one_em(\"Hi! Hi!! Hi!\"))"
      ],
      "metadata": {
        "colab": {
          "base_uri": "https://localhost:8080/"
        },
        "id": "ih1ZJxnsGmkH",
        "outputId": "c259f130-7d78-45b2-93c0-3e301829aea9"
      },
      "execution_count": null,
      "outputs": [
        {
          "output_type": "stream",
          "name": "stdout",
          "text": [
            "Hi!!\n"
          ]
        }
      ]
    }
  ]
}